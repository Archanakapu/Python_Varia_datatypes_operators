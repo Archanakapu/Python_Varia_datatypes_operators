{
  "nbformat": 4,
  "nbformat_minor": 0,
  "metadata": {
    "colab": {
      "provenance": []
    },
    "kernelspec": {
      "name": "python3",
      "display_name": "Python 3"
    },
    "language_info": {
      "name": "python"
    }
  },
  "cells": [
    {
      "cell_type": "markdown",
      "source": [
        "Python Datastructures are 2 types\n",
        "1.Inbuid data structures\n",
        "2.User defined data structures\n",
        "\n",
        "# What is Data structure?\n",
        "-->Data structures is collection of data types(we can declare more than one value)\n",
        "-->ex:List,tuple,set,dictionary.\n",
        "\n",
        "# List:\n",
        "\n",
        "1.we can define list with []\n",
        "2.List conatains inbuild methods\n",
        "3.List allows multile data types.\n",
        "4.duplicate values are allowed.\n",
        "5.covered appened(),copy(),reverse(),string indexing()\n",
        "\n",
        "**indexing is 2 types:**\n",
        "\n",
        "forward indexing(left to right)\n",
        "backward indexing(right to left)\n",
        "step indexing\n",
        "\n",
        "\n",
        "# What is Matrix?\n",
        "-->Collection of Data structures is called matrix.\n"
      ],
      "metadata": {
        "id": "dqWUndKo71ux"
      }
    },
    {
      "cell_type": "code",
      "source": [
        "i=5\n",
        "type(i)"
      ],
      "metadata": {
        "colab": {
          "base_uri": "https://localhost:8080/"
        },
        "id": "9pLE3KSv8FZK",
        "outputId": "a5d2e7b1-dd68-4e64-b8a9-f8b6e5857ffc"
      },
      "execution_count": 1,
      "outputs": [
        {
          "output_type": "execute_result",
          "data": {
            "text/plain": [
              "int"
            ]
          },
          "metadata": {},
          "execution_count": 1
        }
      ]
    },
    {
      "cell_type": "code",
      "source": [
        "l=[]\n",
        "l"
      ],
      "metadata": {
        "colab": {
          "base_uri": "https://localhost:8080/"
        },
        "id": "ifC2c6A88VIr",
        "outputId": "0c8ec24e-9bfe-4677-aaac-b684f69437ee"
      },
      "execution_count": 2,
      "outputs": [
        {
          "output_type": "execute_result",
          "data": {
            "text/plain": [
              "[]"
            ]
          },
          "metadata": {},
          "execution_count": 2
        }
      ]
    },
    {
      "cell_type": "code",
      "source": [
        "type(l)"
      ],
      "metadata": {
        "colab": {
          "base_uri": "https://localhost:8080/"
        },
        "id": "te-uDeoP8ZXH",
        "outputId": "ea42e7b9-841f-4ca6-999d-1d9ff6bd3748"
      },
      "execution_count": 3,
      "outputs": [
        {
          "output_type": "execute_result",
          "data": {
            "text/plain": [
              "list"
            ]
          },
          "metadata": {},
          "execution_count": 3
        }
      ]
    },
    {
      "cell_type": "code",
      "source": [
        "len()"
      ],
      "metadata": {
        "colab": {
          "base_uri": "https://localhost:8080/",
          "height": 141
        },
        "id": "0ir3Y3xk8bgB",
        "outputId": "e5b6d8d8-6850-4bcc-90dc-ba3adaa65d42"
      },
      "execution_count": 6,
      "outputs": [
        {
          "output_type": "error",
          "ename": "TypeError",
          "evalue": "len() takes exactly one argument (0 given)",
          "traceback": [
            "\u001b[0;31m---------------------------------------------------------------------------\u001b[0m",
            "\u001b[0;31mTypeError\u001b[0m                                 Traceback (most recent call last)",
            "\u001b[0;32m<ipython-input-6-adf3103c7c3e>\u001b[0m in \u001b[0;36m<cell line: 0>\u001b[0;34m()\u001b[0m\n\u001b[0;32m----> 1\u001b[0;31m \u001b[0mlen\u001b[0m\u001b[0;34m(\u001b[0m\u001b[0;34m)\u001b[0m\u001b[0;34m\u001b[0m\u001b[0;34m\u001b[0m\u001b[0m\n\u001b[0m",
            "\u001b[0;31mTypeError\u001b[0m: len() takes exactly one argument (0 given)"
          ]
        }
      ]
    },
    {
      "cell_type": "code",
      "source": [
        "len(l)"
      ],
      "metadata": {
        "colab": {
          "base_uri": "https://localhost:8080/"
        },
        "id": "FWlHIZXB8yCn",
        "outputId": "1dc02669-3dfc-4573-ad8f-f31fe2030e1e"
      },
      "execution_count": 7,
      "outputs": [
        {
          "output_type": "execute_result",
          "data": {
            "text/plain": [
              "0"
            ]
          },
          "metadata": {},
          "execution_count": 7
        }
      ]
    },
    {
      "cell_type": "markdown",
      "source": [
        "# append(): Adds an element to the end of the list."
      ],
      "metadata": {
        "id": "Q0rzFMSI9iCn"
      }
    },
    {
      "cell_type": "code",
      "source": [
        "l.append(10)\n",
        "l.remove(10)\n",
        "l"
      ],
      "metadata": {
        "colab": {
          "base_uri": "https://localhost:8080/"
        },
        "id": "Cn1jK3zl-CAL",
        "outputId": "b1fd6d7f-d76e-435d-bed8-00008bd1588b"
      },
      "execution_count": 17,
      "outputs": [
        {
          "output_type": "execute_result",
          "data": {
            "text/plain": [
              "[10, 10, 10, 10, 10]"
            ]
          },
          "metadata": {},
          "execution_count": 17
        }
      ]
    },
    {
      "cell_type": "code",
      "source": [
        "l"
      ],
      "metadata": {
        "colab": {
          "base_uri": "https://localhost:8080/"
        },
        "id": "ZeyLjeCT-b0K",
        "outputId": "fe3863e9-9918-47d2-b394-51cc5e979804"
      },
      "execution_count": 18,
      "outputs": [
        {
          "output_type": "execute_result",
          "data": {
            "text/plain": [
              "[10, 10, 10, 10, 10]"
            ]
          },
          "metadata": {},
          "execution_count": 18
        }
      ]
    },
    {
      "cell_type": "markdown",
      "source": [
        "# remove(): Removes the first occurrence of a specified element."
      ],
      "metadata": {
        "id": "_n6FaPUq-_E3"
      }
    },
    {
      "cell_type": "code",
      "source": [
        "l.remove(10)"
      ],
      "metadata": {
        "id": "1zkIQT0k-dJQ"
      },
      "execution_count": 19,
      "outputs": []
    },
    {
      "cell_type": "code",
      "source": [
        "l"
      ],
      "metadata": {
        "colab": {
          "base_uri": "https://localhost:8080/"
        },
        "id": "Usx9LvwB-e4r",
        "outputId": "cf7931ed-e3f1-4565-f291-23a09569b575"
      },
      "execution_count": 20,
      "outputs": [
        {
          "output_type": "execute_result",
          "data": {
            "text/plain": [
              "[10, 10, 10, 10]"
            ]
          },
          "metadata": {},
          "execution_count": 20
        }
      ]
    },
    {
      "cell_type": "code",
      "source": [
        "l.remove(10)"
      ],
      "metadata": {
        "id": "pm1WYDbM-i45"
      },
      "execution_count": 22,
      "outputs": []
    },
    {
      "cell_type": "code",
      "source": [
        "l"
      ],
      "metadata": {
        "colab": {
          "base_uri": "https://localhost:8080/"
        },
        "id": "wgrhaThk-ols",
        "outputId": "6aac4347-8605-4353-9a3b-23338c5e1b20"
      },
      "execution_count": 23,
      "outputs": [
        {
          "output_type": "execute_result",
          "data": {
            "text/plain": [
              "[10, 10, 10]"
            ]
          },
          "metadata": {},
          "execution_count": 23
        }
      ]
    },
    {
      "cell_type": "code",
      "source": [
        "l.remove(10)"
      ],
      "metadata": {
        "id": "C56obBhh-yvf"
      },
      "execution_count": 24,
      "outputs": []
    },
    {
      "cell_type": "code",
      "source": [
        "l"
      ],
      "metadata": {
        "colab": {
          "base_uri": "https://localhost:8080/"
        },
        "id": "C5P8RX-E-1Yw",
        "outputId": "e57f98b8-a5ec-48cd-811a-c0ee8543a3e9"
      },
      "execution_count": 25,
      "outputs": [
        {
          "output_type": "execute_result",
          "data": {
            "text/plain": [
              "[10, 10]"
            ]
          },
          "metadata": {},
          "execution_count": 25
        }
      ]
    },
    {
      "cell_type": "code",
      "source": [
        "l.remove(10)"
      ],
      "metadata": {
        "id": "d0KrQoRr-3cC"
      },
      "execution_count": 26,
      "outputs": []
    },
    {
      "cell_type": "code",
      "source": [
        "l"
      ],
      "metadata": {
        "colab": {
          "base_uri": "https://localhost:8080/"
        },
        "id": "4vg4r5Qw-4qr",
        "outputId": "ffcf0507-0283-456e-c635-54a7ed8f2a21"
      },
      "execution_count": 27,
      "outputs": [
        {
          "output_type": "execute_result",
          "data": {
            "text/plain": [
              "[10]"
            ]
          },
          "metadata": {},
          "execution_count": 27
        }
      ]
    },
    {
      "cell_type": "code",
      "source": [
        "len(l)"
      ],
      "metadata": {
        "colab": {
          "base_uri": "https://localhost:8080/"
        },
        "id": "OgGD24Fc_GO9",
        "outputId": "e7d66077-8c4b-4b5f-e045-80a9dcf107cc"
      },
      "execution_count": 28,
      "outputs": [
        {
          "output_type": "execute_result",
          "data": {
            "text/plain": [
              "1"
            ]
          },
          "metadata": {},
          "execution_count": 28
        }
      ]
    },
    {
      "cell_type": "code",
      "source": [
        "l.append(10,20,30,40)"
      ],
      "metadata": {
        "colab": {
          "base_uri": "https://localhost:8080/",
          "height": 141
        },
        "id": "wdmKryBA_KY2",
        "outputId": "2b0eed94-6586-4cd5-8547-ee398797eadf"
      },
      "execution_count": 29,
      "outputs": [
        {
          "output_type": "error",
          "ename": "TypeError",
          "evalue": "list.append() takes exactly one argument (4 given)",
          "traceback": [
            "\u001b[0;31m---------------------------------------------------------------------------\u001b[0m",
            "\u001b[0;31mTypeError\u001b[0m                                 Traceback (most recent call last)",
            "\u001b[0;32m<ipython-input-29-043b014809f9>\u001b[0m in \u001b[0;36m<cell line: 0>\u001b[0;34m()\u001b[0m\n\u001b[0;32m----> 1\u001b[0;31m \u001b[0ml\u001b[0m\u001b[0;34m.\u001b[0m\u001b[0mappend\u001b[0m\u001b[0;34m(\u001b[0m\u001b[0;36m10\u001b[0m\u001b[0;34m,\u001b[0m\u001b[0;36m20\u001b[0m\u001b[0;34m,\u001b[0m\u001b[0;36m30\u001b[0m\u001b[0;34m,\u001b[0m\u001b[0;36m40\u001b[0m\u001b[0;34m)\u001b[0m\u001b[0;34m\u001b[0m\u001b[0;34m\u001b[0m\u001b[0m\n\u001b[0m",
            "\u001b[0;31mTypeError\u001b[0m: list.append() takes exactly one argument (4 given)"
          ]
        }
      ]
    },
    {
      "cell_type": "code",
      "source": [
        "l.append(10)\n",
        "l.append(20)\n",
        "l.append(30)\n",
        "l.append(40)"
      ],
      "metadata": {
        "id": "dqSVTCVD_gb3"
      },
      "execution_count": 33,
      "outputs": []
    },
    {
      "cell_type": "code",
      "source": [
        "l"
      ],
      "metadata": {
        "colab": {
          "base_uri": "https://localhost:8080/"
        },
        "id": "hn5TSMZZ_0Yt",
        "outputId": "35e2f681-bd61-46b6-8b94-93d81ce0e4c4"
      },
      "execution_count": 34,
      "outputs": [
        {
          "output_type": "execute_result",
          "data": {
            "text/plain": [
              "[10, 10, 20, 30, 40, 10, 20, 30, 40]"
            ]
          },
          "metadata": {},
          "execution_count": 34
        }
      ]
    },
    {
      "cell_type": "code",
      "source": [
        "l1=[]\n",
        "l1"
      ],
      "metadata": {
        "colab": {
          "base_uri": "https://localhost:8080/"
        },
        "id": "19-jMpkaAcYa",
        "outputId": "701cf06f-17f4-403b-f8bf-9bbd35bcabcf"
      },
      "execution_count": 42,
      "outputs": [
        {
          "output_type": "execute_result",
          "data": {
            "text/plain": [
              "[]"
            ]
          },
          "metadata": {},
          "execution_count": 42
        }
      ]
    },
    {
      "cell_type": "code",
      "source": [
        "l1.append(70)\n",
        "l1.append(2.3)\n",
        "l1.append(True)\n",
        "l1.append(10+2j)\n",
        "l1.append([10,20,30])\n"
      ],
      "metadata": {
        "id": "0humgE__AyHy"
      },
      "execution_count": 43,
      "outputs": []
    },
    {
      "cell_type": "code",
      "source": [
        "l1"
      ],
      "metadata": {
        "colab": {
          "base_uri": "https://localhost:8080/"
        },
        "id": "EctTxAmsBemj",
        "outputId": "c3612cc0-14d1-4ae1-ecd8-cfe111ff85bd"
      },
      "execution_count": 44,
      "outputs": [
        {
          "output_type": "execute_result",
          "data": {
            "text/plain": [
              "[70, 2.3, True, (10+2j), [10, 20, 30]]"
            ]
          },
          "metadata": {},
          "execution_count": 44
        }
      ]
    },
    {
      "cell_type": "code",
      "source": [
        "print(l)\n",
        "print(l1)"
      ],
      "metadata": {
        "colab": {
          "base_uri": "https://localhost:8080/"
        },
        "id": "fvdToum3B55A",
        "outputId": "04f28952-4c76-4047-dd4a-a87d807ac57f"
      },
      "execution_count": 45,
      "outputs": [
        {
          "output_type": "stream",
          "name": "stdout",
          "text": [
            "[10, 10, 20, 30, 40, 10, 20, 30, 40]\n",
            "[70, 2.3, True, (10+2j), [10, 20, 30]]\n"
          ]
        }
      ]
    },
    {
      "cell_type": "code",
      "source": [
        "print(id(l))"
      ],
      "metadata": {
        "colab": {
          "base_uri": "https://localhost:8080/"
        },
        "id": "yjPl5D-xB_xK",
        "outputId": "67ca9257-f9e6-41d4-fc67-2efbb930998f"
      },
      "execution_count": 54,
      "outputs": [
        {
          "output_type": "stream",
          "name": "stdout",
          "text": [
            "136933618916096\n"
          ]
        }
      ]
    },
    {
      "cell_type": "code",
      "source": [
        "print(id(l1))"
      ],
      "metadata": {
        "colab": {
          "base_uri": "https://localhost:8080/"
        },
        "id": "J7bSlwvQCcPZ",
        "outputId": "46c6fb4b-5ead-4d0e-f408-e960648ba741"
      },
      "execution_count": 55,
      "outputs": [
        {
          "output_type": "stream",
          "name": "stdout",
          "text": [
            "136933617894464\n"
          ]
        }
      ]
    },
    {
      "cell_type": "markdown",
      "source": [
        "# how to find length of list?"
      ],
      "metadata": {
        "id": "FILLIMUtDLIL"
      }
    },
    {
      "cell_type": "code",
      "source": [
        "print(len(l))\n",
        "print(len(l1))"
      ],
      "metadata": {
        "colab": {
          "base_uri": "https://localhost:8080/"
        },
        "id": "Gh5I2RmIDQGt",
        "outputId": "0b2860f9-747a-4996-e06a-a2da4f5cee88"
      },
      "execution_count": 56,
      "outputs": [
        {
          "output_type": "stream",
          "name": "stdout",
          "text": [
            "9\n",
            "5\n"
          ]
        }
      ]
    },
    {
      "cell_type": "code",
      "source": [
        "l1"
      ],
      "metadata": {
        "colab": {
          "base_uri": "https://localhost:8080/"
        },
        "id": "NIwWulEWDYWy",
        "outputId": "a99754a6-f103-450e-e3a0-9cfe0aafbee8"
      },
      "execution_count": 57,
      "outputs": [
        {
          "output_type": "execute_result",
          "data": {
            "text/plain": [
              "[70, 2.3, True, (10+2j), [10, 20, 30]]"
            ]
          },
          "metadata": {},
          "execution_count": 57
        }
      ]
    },
    {
      "cell_type": "markdown",
      "source": [
        "# copy(): Returns a shallow copy of the list.\n",
        "\n",
        "# copying 1 list into another>list with in the another list is called nested list."
      ],
      "metadata": {
        "id": "mm9M8LqbDe0n"
      }
    },
    {
      "cell_type": "code",
      "source": [
        "l2=l1.copy()"
      ],
      "metadata": {
        "id": "y3sCyCWlDi5X"
      },
      "execution_count": 58,
      "outputs": []
    },
    {
      "cell_type": "code",
      "source": [
        "l2"
      ],
      "metadata": {
        "colab": {
          "base_uri": "https://localhost:8080/"
        },
        "id": "cp55jgmfD3eU",
        "outputId": "99bac4f4-8444-4788-f66b-862dc790dbbe"
      },
      "execution_count": 59,
      "outputs": [
        {
          "output_type": "execute_result",
          "data": {
            "text/plain": [
              "[70, 2.3, True, (10+2j), [10, 20, 30]]"
            ]
          },
          "metadata": {},
          "execution_count": 59
        }
      ]
    },
    {
      "cell_type": "markdown",
      "source": [
        "Comparing 2 lists using assignment operators"
      ],
      "metadata": {
        "id": "RTzez5GuEY69"
      }
    },
    {
      "cell_type": "code",
      "source": [
        "l1==l2"
      ],
      "metadata": {
        "colab": {
          "base_uri": "https://localhost:8080/"
        },
        "id": "B7SnfHbcD9fj",
        "outputId": "e7642bce-c39e-4f17-8c1e-0fc8fc2f7244"
      },
      "execution_count": 60,
      "outputs": [
        {
          "output_type": "execute_result",
          "data": {
            "text/plain": [
              "True"
            ]
          },
          "metadata": {},
          "execution_count": 60
        }
      ]
    },
    {
      "cell_type": "code",
      "source": [
        "l1!=l2"
      ],
      "metadata": {
        "colab": {
          "base_uri": "https://localhost:8080/"
        },
        "id": "9H4kpgboD_We",
        "outputId": "c05fc4ba-62f6-4e86-d407-241a4b6bdf95"
      },
      "execution_count": 61,
      "outputs": [
        {
          "output_type": "execute_result",
          "data": {
            "text/plain": [
              "False"
            ]
          },
          "metadata": {},
          "execution_count": 61
        }
      ]
    },
    {
      "cell_type": "code",
      "source": [
        "l"
      ],
      "metadata": {
        "colab": {
          "base_uri": "https://localhost:8080/"
        },
        "id": "z4N8HQuPEJAy",
        "outputId": "94eb02fa-7871-4ec8-e7bb-0d80206a62f6"
      },
      "execution_count": 62,
      "outputs": [
        {
          "output_type": "execute_result",
          "data": {
            "text/plain": [
              "[10, 10, 20, 30, 40, 10, 20, 30, 40]"
            ]
          },
          "metadata": {},
          "execution_count": 62
        }
      ]
    },
    {
      "cell_type": "code",
      "source": [
        "l==l2"
      ],
      "metadata": {
        "colab": {
          "base_uri": "https://localhost:8080/"
        },
        "id": "P7LEAqmLEKm9",
        "outputId": "d0c1f1bf-58ef-4920-af1a-68ed7f39d58e"
      },
      "execution_count": 63,
      "outputs": [
        {
          "output_type": "execute_result",
          "data": {
            "text/plain": [
              "False"
            ]
          },
          "metadata": {},
          "execution_count": 63
        }
      ]
    },
    {
      "cell_type": "code",
      "source": [
        "l!=l2"
      ],
      "metadata": {
        "colab": {
          "base_uri": "https://localhost:8080/"
        },
        "id": "sS8T0uJ5EM_K",
        "outputId": "e9d7e090-6d1e-45ea-89a9-994cf57777a5"
      },
      "execution_count": 64,
      "outputs": [
        {
          "output_type": "execute_result",
          "data": {
            "text/plain": [
              "True"
            ]
          },
          "metadata": {},
          "execution_count": 64
        }
      ]
    },
    {
      "cell_type": "code",
      "source": [
        "l1==l2"
      ],
      "metadata": {
        "colab": {
          "base_uri": "https://localhost:8080/"
        },
        "id": "Jwl7bgGGE7w4",
        "outputId": "9e32cf51-32e4-4b90-b934-0b3fce87f798"
      },
      "execution_count": 65,
      "outputs": [
        {
          "output_type": "execute_result",
          "data": {
            "text/plain": [
              "True"
            ]
          },
          "metadata": {},
          "execution_count": 65
        }
      ]
    },
    {
      "cell_type": "code",
      "source": [
        "print(l1)\n",
        "print(l2)"
      ],
      "metadata": {
        "colab": {
          "base_uri": "https://localhost:8080/"
        },
        "id": "B04dN_C_E9eQ",
        "outputId": "203fb4a5-1e82-4154-8159-ece5ec53580e"
      },
      "execution_count": 66,
      "outputs": [
        {
          "output_type": "stream",
          "name": "stdout",
          "text": [
            "[70, 2.3, True, (10+2j), [10, 20, 30]]\n",
            "[70, 2.3, True, (10+2j), [10, 20, 30]]\n"
          ]
        }
      ]
    },
    {
      "cell_type": "code",
      "source": [
        "print(id(l1))==print(id(l2))"
      ],
      "metadata": {
        "colab": {
          "base_uri": "https://localhost:8080/"
        },
        "id": "2LLvFSaJFCXG",
        "outputId": "d26f7ef5-3ac8-4cf2-aa4e-44954f952858"
      },
      "execution_count": 67,
      "outputs": [
        {
          "output_type": "stream",
          "name": "stdout",
          "text": [
            "136933617894464\n",
            "136933617895680\n"
          ]
        },
        {
          "output_type": "execute_result",
          "data": {
            "text/plain": [
              "True"
            ]
          },
          "metadata": {},
          "execution_count": 67
        }
      ]
    },
    {
      "cell_type": "code",
      "source": [
        "a=4\n",
        "b=4"
      ],
      "metadata": {
        "id": "_MWom_UCFtbK"
      },
      "execution_count": 69,
      "outputs": []
    },
    {
      "cell_type": "code",
      "source": [
        "print(id(a))==print(id(b))"
      ],
      "metadata": {
        "colab": {
          "base_uri": "https://localhost:8080/"
        },
        "id": "qCv6w1MLFxDK",
        "outputId": "61835961-5ef1-4d90-f2f3-21f7c59397bf"
      },
      "execution_count": 70,
      "outputs": [
        {
          "output_type": "stream",
          "name": "stdout",
          "text": [
            "10750952\n",
            "10750952\n"
          ]
        },
        {
          "output_type": "execute_result",
          "data": {
            "text/plain": [
              "True"
            ]
          },
          "metadata": {},
          "execution_count": 70
        }
      ]
    },
    {
      "cell_type": "code",
      "source": [
        "l"
      ],
      "metadata": {
        "colab": {
          "base_uri": "https://localhost:8080/"
        },
        "id": "ziBqroelGGQv",
        "outputId": "eafac290-33f8-4859-ee7e-2445d91feb1d"
      },
      "execution_count": 71,
      "outputs": [
        {
          "output_type": "execute_result",
          "data": {
            "text/plain": [
              "[10, 10, 20, 30, 40, 10, 20, 30, 40]"
            ]
          },
          "metadata": {},
          "execution_count": 71
        }
      ]
    },
    {
      "cell_type": "code",
      "source": [
        "l.remove()"
      ],
      "metadata": {
        "colab": {
          "base_uri": "https://localhost:8080/",
          "height": 141
        },
        "id": "mcc4R0gcGHgp",
        "outputId": "e823d21b-3c40-480c-b2af-3a587e295874"
      },
      "execution_count": 72,
      "outputs": [
        {
          "output_type": "error",
          "ename": "TypeError",
          "evalue": "list.remove() takes exactly one argument (0 given)",
          "traceback": [
            "\u001b[0;31m---------------------------------------------------------------------------\u001b[0m",
            "\u001b[0;31mTypeError\u001b[0m                                 Traceback (most recent call last)",
            "\u001b[0;32m<ipython-input-72-6e57923871b5>\u001b[0m in \u001b[0;36m<cell line: 0>\u001b[0;34m()\u001b[0m\n\u001b[0;32m----> 1\u001b[0;31m \u001b[0ml\u001b[0m\u001b[0;34m.\u001b[0m\u001b[0mremove\u001b[0m\u001b[0;34m(\u001b[0m\u001b[0;34m)\u001b[0m\u001b[0;34m\u001b[0m\u001b[0;34m\u001b[0m\u001b[0m\n\u001b[0m",
            "\u001b[0;31mTypeError\u001b[0m: list.remove() takes exactly one argument (0 given)"
          ]
        }
      ]
    },
    {
      "cell_type": "code",
      "source": [
        "l.remove(10)"
      ],
      "metadata": {
        "id": "DtZE-xmNGf2f"
      },
      "execution_count": 73,
      "outputs": []
    },
    {
      "cell_type": "code",
      "source": [
        "l"
      ],
      "metadata": {
        "colab": {
          "base_uri": "https://localhost:8080/"
        },
        "id": "auz9KO96GpsX",
        "outputId": "10978076-812c-4187-f278-7e8d4e1ab18f"
      },
      "execution_count": 74,
      "outputs": [
        {
          "output_type": "execute_result",
          "data": {
            "text/plain": [
              "[10, 20, 30, 40, 10, 20, 30, 40]"
            ]
          },
          "metadata": {},
          "execution_count": 74
        }
      ]
    },
    {
      "cell_type": "code",
      "source": [
        "l.remove(10)\n",
        "l"
      ],
      "metadata": {
        "colab": {
          "base_uri": "https://localhost:8080/"
        },
        "id": "ykhhZ74NGu6s",
        "outputId": "6369ba01-c22b-4772-ed21-5684cf4ece9f"
      },
      "execution_count": 76,
      "outputs": [
        {
          "output_type": "execute_result",
          "data": {
            "text/plain": [
              "[20, 30, 40, 10, 20, 30, 40]"
            ]
          },
          "metadata": {},
          "execution_count": 76
        }
      ]
    },
    {
      "cell_type": "markdown",
      "source": [
        "#list indexing and slicing![image.png](data:image/png;base64,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)"
      ],
      "metadata": {
        "id": "7Iiy73TbHI0T"
      }
    },
    {
      "cell_type": "code",
      "source": [
        "s7='ArchanaDatascientist'\n",
        "s7"
      ],
      "metadata": {
        "colab": {
          "base_uri": "https://localhost:8080/",
          "height": 35
        },
        "id": "Ovt48nVLHLEL",
        "outputId": "76c8e144-6584-4a2a-8bbe-aec4922ff189"
      },
      "execution_count": 77,
      "outputs": [
        {
          "output_type": "execute_result",
          "data": {
            "text/plain": [
              "'ArchanaDatascientist'"
            ],
            "application/vnd.google.colaboratory.intrinsic+json": {
              "type": "string"
            }
          },
          "metadata": {},
          "execution_count": 77
        }
      ]
    },
    {
      "cell_type": "code",
      "source": [
        "s7[0]"
      ],
      "metadata": {
        "colab": {
          "base_uri": "https://localhost:8080/",
          "height": 35
        },
        "id": "8wiYpQ67IF1m",
        "outputId": "59ca3efb-18a5-48a5-f3f2-28cbf304e064"
      },
      "execution_count": 78,
      "outputs": [
        {
          "output_type": "execute_result",
          "data": {
            "text/plain": [
              "'A'"
            ],
            "application/vnd.google.colaboratory.intrinsic+json": {
              "type": "string"
            }
          },
          "metadata": {},
          "execution_count": 78
        }
      ]
    },
    {
      "cell_type": "code",
      "source": [
        "s7[1]"
      ],
      "metadata": {
        "colab": {
          "base_uri": "https://localhost:8080/",
          "height": 35
        },
        "id": "BInlzs8oIKpq",
        "outputId": "2622d616-ddda-47bd-b153-c37b25119df6"
      },
      "execution_count": 79,
      "outputs": [
        {
          "output_type": "execute_result",
          "data": {
            "text/plain": [
              "'r'"
            ],
            "application/vnd.google.colaboratory.intrinsic+json": {
              "type": "string"
            }
          },
          "metadata": {},
          "execution_count": 79
        }
      ]
    },
    {
      "cell_type": "code",
      "source": [
        "s7[20]"
      ],
      "metadata": {
        "colab": {
          "base_uri": "https://localhost:8080/",
          "height": 141
        },
        "id": "MPsF3KBtITiZ",
        "outputId": "e3a204f6-76e9-437e-bcbf-cae3936d7a0e"
      },
      "execution_count": 80,
      "outputs": [
        {
          "output_type": "error",
          "ename": "IndexError",
          "evalue": "string index out of range",
          "traceback": [
            "\u001b[0;31m---------------------------------------------------------------------------\u001b[0m",
            "\u001b[0;31mIndexError\u001b[0m                                Traceback (most recent call last)",
            "\u001b[0;32m<ipython-input-80-6610ae8d39fa>\u001b[0m in \u001b[0;36m<cell line: 0>\u001b[0;34m()\u001b[0m\n\u001b[0;32m----> 1\u001b[0;31m \u001b[0ms7\u001b[0m\u001b[0;34m[\u001b[0m\u001b[0;36m20\u001b[0m\u001b[0;34m]\u001b[0m\u001b[0;34m\u001b[0m\u001b[0;34m\u001b[0m\u001b[0m\n\u001b[0m",
            "\u001b[0;31mIndexError\u001b[0m: string index out of range"
          ]
        }
      ]
    },
    {
      "cell_type": "code",
      "source": [
        "s7[-1]"
      ],
      "metadata": {
        "colab": {
          "base_uri": "https://localhost:8080/",
          "height": 35
        },
        "id": "0qYKyss4IhnX",
        "outputId": "435af0b6-faf7-411e-860b-614e46bc863a"
      },
      "execution_count": 81,
      "outputs": [
        {
          "output_type": "execute_result",
          "data": {
            "text/plain": [
              "'t'"
            ],
            "application/vnd.google.colaboratory.intrinsic+json": {
              "type": "string"
            }
          },
          "metadata": {},
          "execution_count": 81
        }
      ]
    },
    {
      "cell_type": "code",
      "source": [
        "s7[-13]"
      ],
      "metadata": {
        "colab": {
          "base_uri": "https://localhost:8080/",
          "height": 35
        },
        "id": "ImQB7FcnIrCe",
        "outputId": "ce56cb8b-2a04-4a76-fd99-bafc15e58723"
      },
      "execution_count": 82,
      "outputs": [
        {
          "output_type": "execute_result",
          "data": {
            "text/plain": [
              "'D'"
            ],
            "application/vnd.google.colaboratory.intrinsic+json": {
              "type": "string"
            }
          },
          "metadata": {},
          "execution_count": 82
        }
      ]
    },
    {
      "cell_type": "code",
      "source": [
        "for i in s7:\n",
        "  print(i)"
      ],
      "metadata": {
        "colab": {
          "base_uri": "https://localhost:8080/"
        },
        "id": "nLKflJPsJjmv",
        "outputId": "be2b7c25-5dfe-4454-fc87-4ecbc5037bf2"
      },
      "execution_count": 84,
      "outputs": [
        {
          "output_type": "stream",
          "name": "stdout",
          "text": [
            "A\n",
            "r\n",
            "c\n",
            "h\n",
            "a\n",
            "n\n",
            "a\n",
            "D\n",
            "a\n",
            "t\n",
            "a\n",
            "s\n",
            "c\n",
            "i\n",
            "e\n",
            "n\n",
            "t\n",
            "i\n",
            "s\n",
            "t\n"
          ]
        }
      ]
    },
    {
      "cell_type": "markdown",
      "source": [
        "#slicing,in pyton slicing defines with[:]\n",
        "slicing are 3 types\n",
        "\n",
        "forward slicing\n",
        "\n",
        "backward slicing\n",
        "\n",
        "step slicing\n",
        "\n",
        "\n",
        "\n",
        "Forward slicing:\n",
        "\n",
        "[2:7]---->here 2 is left indexing and 7 is right indexing.\n",
        "\n",
        "2nd index:(n-1) formua right index(7-1)\n",
        "\n",
        "output will print as 2th to 6th\n",
        "\n",
        "backward slicing:\n",
        "\n",
        "[-7:-1]--->here left indexing is -7:-1-1==-7:-2\n",
        "p/o:-7,-6,-5,-4,-3,-2"
      ],
      "metadata": {
        "id": "AguUR92uJnpB"
      }
    },
    {
      "cell_type": "code",
      "source": [
        "s9='nareshit'\n",
        "s9"
      ],
      "metadata": {
        "colab": {
          "base_uri": "https://localhost:8080/",
          "height": 35
        },
        "id": "Eb2gt5JELDlF",
        "outputId": "e1a41edc-788e-42f0-9889-45df971c2e26"
      },
      "execution_count": 86,
      "outputs": [
        {
          "output_type": "execute_result",
          "data": {
            "text/plain": [
              "'nareshit'"
            ],
            "application/vnd.google.colaboratory.intrinsic+json": {
              "type": "string"
            }
          },
          "metadata": {},
          "execution_count": 86
        }
      ]
    },
    {
      "cell_type": "code",
      "source": [
        "s9[0:9]\n",
        "s9"
      ],
      "metadata": {
        "colab": {
          "base_uri": "https://localhost:8080/",
          "height": 35
        },
        "id": "DAD0o0hGJ2V9",
        "outputId": "2c75e1f7-2231-4f03-db23-7bd17142a543"
      },
      "execution_count": 87,
      "outputs": [
        {
          "output_type": "execute_result",
          "data": {
            "text/plain": [
              "'nareshit'"
            ],
            "application/vnd.google.colaboratory.intrinsic+json": {
              "type": "string"
            }
          },
          "metadata": {},
          "execution_count": 87
        }
      ]
    },
    {
      "cell_type": "code",
      "source": [
        "s9[1:8]"
      ],
      "metadata": {
        "colab": {
          "base_uri": "https://localhost:8080/",
          "height": 35
        },
        "id": "-2VtuxTiLgp0",
        "outputId": "106a9d99-0009-4c59-e1bd-3d14eff955ce"
      },
      "execution_count": 91,
      "outputs": [
        {
          "output_type": "execute_result",
          "data": {
            "text/plain": [
              "'areshit'"
            ],
            "application/vnd.google.colaboratory.intrinsic+json": {
              "type": "string"
            }
          },
          "metadata": {},
          "execution_count": 91
        }
      ]
    },
    {
      "cell_type": "code",
      "source": [
        "s9[1:-3]"
      ],
      "metadata": {
        "colab": {
          "base_uri": "https://localhost:8080/",
          "height": 35
        },
        "id": "Q-_iakKwL3Rq",
        "outputId": "5e36ffcd-23b9-4e61-d75a-794c721ae30b"
      },
      "execution_count": 92,
      "outputs": [
        {
          "output_type": "execute_result",
          "data": {
            "text/plain": [
              "'ares'"
            ],
            "application/vnd.google.colaboratory.intrinsic+json": {
              "type": "string"
            }
          },
          "metadata": {},
          "execution_count": 92
        }
      ]
    },
    {
      "cell_type": "code",
      "source": [
        "s9[1:-4]"
      ],
      "metadata": {
        "colab": {
          "base_uri": "https://localhost:8080/",
          "height": 35
        },
        "id": "K0J0drasMXaB",
        "outputId": "30a5f08d-0554-4a5b-d162-b16ead02c655"
      },
      "execution_count": 93,
      "outputs": [
        {
          "output_type": "execute_result",
          "data": {
            "text/plain": [
              "'are'"
            ],
            "application/vnd.google.colaboratory.intrinsic+json": {
              "type": "string"
            }
          },
          "metadata": {},
          "execution_count": 93
        }
      ]
    },
    {
      "cell_type": "markdown",
      "source": [
        "#step slicing"
      ],
      "metadata": {
        "id": "VjS43M1YM2dK"
      }
    },
    {
      "cell_type": "code",
      "source": [
        "step_indexing=[1,2,3,4,5,6,7,8,9,10]\n",
        "step_indexing[0:10:4]#here this mean print values from oth to 10th indexing by stepping 4steps"
      ],
      "metadata": {
        "colab": {
          "base_uri": "https://localhost:8080/"
        },
        "id": "5qN3jyKYM4Qy",
        "outputId": "1192ae3f-9e94-4d22-bb15-2afde9f16bff"
      },
      "execution_count": 94,
      "outputs": [
        {
          "output_type": "execute_result",
          "data": {
            "text/plain": [
              "[1, 5, 9]"
            ]
          },
          "metadata": {},
          "execution_count": 94
        }
      ]
    },
    {
      "cell_type": "code",
      "source": [
        "step_indexing[1:7:2]"
      ],
      "metadata": {
        "colab": {
          "base_uri": "https://localhost:8080/"
        },
        "id": "GqHWRRjZNqvq",
        "outputId": "bd67abdd-9cda-4f60-8dfb-af587c3f7593"
      },
      "execution_count": 95,
      "outputs": [
        {
          "output_type": "execute_result",
          "data": {
            "text/plain": [
              "[2, 4, 6]"
            ]
          },
          "metadata": {},
          "execution_count": 95
        }
      ]
    },
    {
      "cell_type": "code",
      "source": [
        "step_indexing"
      ],
      "metadata": {
        "colab": {
          "base_uri": "https://localhost:8080/"
        },
        "id": "uVeyW9nHN5w7",
        "outputId": "9b09ff32-ab4e-49ce-926b-e28eec999e6d"
      },
      "execution_count": 97,
      "outputs": [
        {
          "output_type": "execute_result",
          "data": {
            "text/plain": [
              "[1, 2, 3, 4, 5, 6, 7, 8, 9, 10]"
            ]
          },
          "metadata": {},
          "execution_count": 97
        }
      ]
    },
    {
      "cell_type": "code",
      "source": [
        "step_indexing[0:10:5]"
      ],
      "metadata": {
        "colab": {
          "base_uri": "https://localhost:8080/"
        },
        "id": "I52Kj847N_3t",
        "outputId": "01cce15c-2e99-40be-82f4-f45b3263e098"
      },
      "execution_count": 98,
      "outputs": [
        {
          "output_type": "execute_result",
          "data": {
            "text/plain": [
              "[1, 6]"
            ]
          },
          "metadata": {},
          "execution_count": 98
        }
      ]
    },
    {
      "cell_type": "code",
      "source": [
        "step_indexing"
      ],
      "metadata": {
        "colab": {
          "base_uri": "https://localhost:8080/"
        },
        "id": "8yMyCj8yOeuz",
        "outputId": "7a1b27d1-0b6d-4bef-bea4-8ccfb4298e81"
      },
      "execution_count": 99,
      "outputs": [
        {
          "output_type": "execute_result",
          "data": {
            "text/plain": [
              "[1, 2, 3, 4, 5, 6, 7, 8, 9, 10]"
            ]
          },
          "metadata": {},
          "execution_count": 99
        }
      ]
    },
    {
      "cell_type": "code",
      "source": [
        "#empty slice means all elemnets will print\n",
        "step_indexing[:]"
      ],
      "metadata": {
        "colab": {
          "base_uri": "https://localhost:8080/"
        },
        "id": "0b_2JyuDOgnW",
        "outputId": "e1e652c6-bbc1-4012-b009-d97d2ada45e2"
      },
      "execution_count": 100,
      "outputs": [
        {
          "output_type": "execute_result",
          "data": {
            "text/plain": [
              "[1, 2, 3, 4, 5, 6, 7, 8, 9, 10]"
            ]
          },
          "metadata": {},
          "execution_count": 100
        }
      ]
    },
    {
      "cell_type": "code",
      "source": [
        "l"
      ],
      "metadata": {
        "colab": {
          "base_uri": "https://localhost:8080/"
        },
        "id": "Iq-ixTipOuqq",
        "outputId": "7adbd292-1eb0-447f-e096-8eb3f7ee8f33"
      },
      "execution_count": 101,
      "outputs": [
        {
          "output_type": "execute_result",
          "data": {
            "text/plain": [
              "[20, 30, 40, 10, 20, 30, 40]"
            ]
          },
          "metadata": {},
          "execution_count": 101
        }
      ]
    },
    {
      "cell_type": "code",
      "source": [
        "#reverse method will print values in reverse order of the string\n",
        "l.reverse()"
      ],
      "metadata": {
        "id": "XvX1t8XWOzCL"
      },
      "execution_count": 102,
      "outputs": []
    },
    {
      "cell_type": "code",
      "source": [
        "l"
      ],
      "metadata": {
        "colab": {
          "base_uri": "https://localhost:8080/"
        },
        "id": "PvDSPylRO3rx",
        "outputId": "3dfdf015-a3c8-4da0-e3f8-87088f22d3a9"
      },
      "execution_count": 103,
      "outputs": [
        {
          "output_type": "execute_result",
          "data": {
            "text/plain": [
              "[40, 30, 20, 10, 40, 30, 20]"
            ]
          },
          "metadata": {},
          "execution_count": 103
        }
      ]
    },
    {
      "cell_type": "code",
      "source": [
        "t= 5\n",
        "r = 2\n",
        "print(t // r)"
      ],
      "metadata": {
        "colab": {
          "base_uri": "https://localhost:8080/"
        },
        "id": "jbaBT6gFR1lp",
        "outputId": "123a2865-242b-4950-de2f-051b94d9025c"
      },
      "execution_count": 107,
      "outputs": [
        {
          "output_type": "stream",
          "name": "stdout",
          "text": [
            "2\n"
          ]
        }
      ]
    },
    {
      "cell_type": "code",
      "source": [
        "l"
      ],
      "metadata": {
        "colab": {
          "base_uri": "https://localhost:8080/"
        },
        "id": "IHWy2FcSU_JA",
        "outputId": "8c78ab9c-00e9-47e8-a705-47384802215e"
      },
      "execution_count": 108,
      "outputs": [
        {
          "output_type": "execute_result",
          "data": {
            "text/plain": [
              "[40, 30, 20, 10, 40, 30, 20]"
            ]
          },
          "metadata": {},
          "execution_count": 108
        }
      ]
    }
  ]
}